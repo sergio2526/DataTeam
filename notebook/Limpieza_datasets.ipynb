{
  "nbformat": 4,
  "nbformat_minor": 0,
  "metadata": {
    "colab": {
      "name": "Limpieza-datasets.ipynb",
      "provenance": [],
      "collapsed_sections": []
    },
    "kernelspec": {
      "name": "python3",
      "display_name": "Python 3"
    }
  },
  "cells": [
    {
      "cell_type": "code",
      "metadata": {
        "id": "Oag7shin7ppy"
      },
      "source": [
        "import pandas as pd\n"
      ],
      "execution_count": 1,
      "outputs": []
    },
    {
      "cell_type": "markdown",
      "metadata": {
        "id": "me1EIQ1vsseE"
      },
      "source": [
        "<h3>Leer archivos json</h3>"
      ]
    },
    {
      "cell_type": "code",
      "metadata": {
        "id": "lMwsP1VMv-Qn"
      },
      "source": [
        "dataset_N26 = pd.read_json('HelpMyCash_N26.json')\n",
        "dataset_abanca = pd.read_json('HelpMyCash_abanca.json')\n",
        "dataset_ing_group = pd.read_json('HelpMyCash_ing_group.json')\n",
        "dataset_openbank = pd.read_json('HelpMyCash_openbank.json')\n",
        "dataset_santander = pd.read_json('HelpMyCash_santander.json')"
      ],
      "execution_count": 73,
      "outputs": []
    },
    {
      "cell_type": "markdown",
      "metadata": {
        "id": "qgkj4WLJEhJM"
      },
      "source": [
        "<h2>Generando listas</h2>\n"
      ]
    },
    {
      "cell_type": "code",
      "metadata": {
        "id": "vc3e-jJKzKZp"
      },
      "source": [
        "lista_N26, opinion_N26, user_description_N26 = [],[],[]\n",
        "lista_abanca, opinion_abanca, user_description_abanca = [],[],[]\n",
        "lista_ing_group, opinion_ing_group, user_description_ing_group = [],[],[]\n",
        "\n",
        "lista_openbank, opinion_openbank, user_description_openbank = [],[],[]\n",
        "lista_santander, opinion_santander, user_description_santander = [],[],[]\n",
        "\n",
        "\n",
        "for i in range(10):\n",
        "  lista = dataset_N26.review.T[i]\n",
        "  opinion = dataset_N26.title_opinion.T[i]\n",
        "  user_description = dataset_N26.user_description.T[i]\n",
        "\n",
        "  opinion_N26 = opinion_N26 + opinion\n",
        "  lista_N26 = lista_N26 + lista \n",
        "  user_description_N26 = user_description_N26 +  user_description\n",
        "\n",
        "\n",
        "\n",
        "for i in range(10):\n",
        "  lista = dataset_abanca.review.T[i]\n",
        "  opinion = dataset_abanca.title_opinion.T[i]\n",
        "  user_description = dataset_abanca.user_description.T[i]\n",
        "\n",
        "  opinion_abanca = opinion_abanca + opinion\n",
        "  lista_abanca = lista_abanca + lista \n",
        "  user_description_abanca = user_description_abanca +  user_description\n",
        "\n",
        "\n",
        "for i in range(10):\n",
        "  lista = dataset_ing_group.review.T[i]\n",
        "  opinion = dataset_ing_group.title_opinion.T[i]\n",
        "  user_description = dataset_ing_group.user_description.T[i]\n",
        "\n",
        "  lista_ing_group = lista_ing_group + lista\n",
        "  opinion_ing_group = opinion_ing_group + opinion \n",
        "  user_description_ing_group = user_description_ing_group +  user_description\n",
        "\n",
        "\n",
        "for i in range(10):\n",
        "  lista = dataset_openbank.review.T[i]\n",
        "  opinion = dataset_openbank.title_opinion.T[i]\n",
        "  user_description = dataset_openbank.user_description.T[i]\n",
        "\n",
        "  lista_openbank = lista_openbank + lista \n",
        "  opinion_openbank = opinion_openbank + opinion \n",
        "  user_description_openbank = user_description_openbank +  user_description\n",
        "\n",
        "\n",
        "for i in range(10):\n",
        "  lista = dataset_santander.review.T[i]\n",
        "  opinion = dataset_santander.title_opinion.T[i]\n",
        "  user_description = dataset_santander.user_description.T[i]\n",
        "\n",
        "  lista_santander = lista_santander + lista\n",
        "  opinion_santander = opinion_santander + opinion\n",
        "  user_description_santander = user_description_santander +  user_description\n",
        "\n",
        "  \n",
        "\n"
      ],
      "execution_count": 74,
      "outputs": []
    },
    {
      "cell_type": "markdown",
      "metadata": {
        "id": "rOMg1I0sE7QI"
      },
      "source": [
        "## Generando datasets"
      ]
    },
    {
      "cell_type": "code",
      "metadata": {
        "id": "bMUC12c7mpSd"
      },
      "source": [
        "review_N26 = pd.DataFrame(lista_N26, columns=['score'])\n",
        "opinion_N26 = pd.DataFrame(opinion_N26, columns=['opinion'])\n",
        "user_description_N26 = pd.DataFrame(user_description_N26, columns=['comentario'])\n",
        "\n",
        "\n",
        "review_abanca = pd.DataFrame(lista_abanca, columns=['score'])\n",
        "opinion_abanca = pd.DataFrame(opinion_abanca, columns=['opinion'])\n",
        "user_description_abanca = pd.DataFrame(user_description_abanca, columns=['comentario'])\n",
        "\n",
        "\n",
        "\n",
        "review_ing_group = pd.DataFrame(lista_ing_group, columns=['score'])\n",
        "opinion_ing_group = pd.DataFrame(opinion_ing_group, columns=['opinion'])\n",
        "user_description_ing_group = pd.DataFrame(user_description_ing_group, columns=['comentario'])\n",
        "\n",
        "\n",
        "\n",
        "review_openbank = pd.DataFrame(lista_openbank, columns=['score'])\n",
        "opinion_openbank = pd.DataFrame(opinion_openbank, columns=['opinion'])\n",
        "user_description_openbank = pd.DataFrame(user_description_openbank, columns=['comentario'])\n",
        "\n",
        "\n",
        "\n",
        "review_santander = pd.DataFrame(lista_santander, columns=['score'])\n",
        "opinion_santander = pd.DataFrame(opinion_santander, columns=['opinion'])\n",
        "user_description_santander = pd.DataFrame(user_description_santander, columns=['comentario'])\n",
        "\n",
        "\n"
      ],
      "execution_count": 75,
      "outputs": []
    },
    {
      "cell_type": "markdown",
      "metadata": {
        "id": "rjXiH_e4E-R5"
      },
      "source": [
        "## Uniendo Datasets"
      ]
    },
    {
      "cell_type": "code",
      "metadata": {
        "id": "h3nM3lxmnaOt"
      },
      "source": [
        "dataset_santander = pd.concat([review_santander,user_description_santander,opinion_santander],axis=1)\n",
        "dataset_N26 = pd.concat([review_N26,user_description_N26,opinion_N26],axis=1)\n",
        "dataset_abanca = pd.concat([review_abanca,user_description_abanca,opinion_abanca],axis=1)\n",
        "\n",
        "\n",
        "\n",
        "\n",
        "dataset_ing_group = pd.concat([review_ing_group,user_description_ing_group,opinion_ing_group],axis=1)\n",
        "dataset_openbank = pd.concat([review_openbank,user_description_openbank,opinion_openbank],axis=1)\n"
      ],
      "execution_count": 76,
      "outputs": []
    },
    {
      "cell_type": "markdown",
      "metadata": {
        "id": "sgZ3W7T-8-mD"
      },
      "source": [
        "# Eliminando los NaN"
      ]
    },
    {
      "cell_type": "code",
      "metadata": {
        "id": "744J_2YOpVSa"
      },
      "source": [
        "dataset_santander.drop(dataset_santander[dataset_santander.opinion.isnull()].index, inplace = True)\n",
        "dataset_santander.drop(dataset_santander[dataset_santander.comentario.isnull()].index, inplace = True)\n",
        "dataset_santander.drop(dataset_santander[dataset_santander.score.isnull()].index, inplace = True)\n",
        "\n",
        "\n",
        "dataset_N26.drop(dataset_N26[dataset_N26.opinion.isnull()].index, inplace = True)\n",
        "dataset_N26.drop(dataset_N26[dataset_N26.comentario.isnull()].index, inplace = True)\n",
        "dataset_N26.drop(dataset_N26[dataset_N26.score.isnull()].index, inplace = True)\n",
        "\n",
        "\n",
        "dataset_abanca.drop(dataset_abanca[dataset_abanca.opinion.isnull()].index, inplace = True)\n",
        "dataset_abanca.drop(dataset_abanca[dataset_abanca.comentario.isnull()].index, inplace = True)\n",
        "dataset_abanca.drop(dataset_abanca[dataset_abanca.score.isnull()].index, inplace = True)\n",
        "\n",
        "\n",
        "dataset_ing_group.drop(dataset_ing_group[dataset_ing_group.opinion.isnull()].index, inplace = True)\n",
        "dataset_ing_group.drop(dataset_ing_group[dataset_ing_group.comentario.isnull()].index, inplace = True)\n",
        "dataset_ing_group.drop(dataset_ing_group[dataset_ing_group.score.isnull()].index, inplace = True)\n",
        "\n",
        "dataset_openbank.drop(dataset_openbank[dataset_openbank.opinion.isnull()].index, inplace = True)\n",
        "dataset_openbank.drop(dataset_openbank[dataset_openbank.comentario.isnull()].index, inplace = True)\n",
        "dataset_openbank.drop(dataset_openbank[dataset_openbank.score.isnull()].index, inplace = True)\n",
        "\n",
        "\n",
        "\n"
      ],
      "execution_count": 78,
      "outputs": []
    },
    {
      "cell_type": "markdown",
      "metadata": {
        "id": "rcBjmTwore3I"
      },
      "source": [
        "# Exportando Datasets"
      ]
    },
    {
      "cell_type": "code",
      "metadata": {
        "id": "CfUoelbyF48q"
      },
      "source": [
        "\n",
        "dataset_N26.to_csv('HelMyCash_N26.csv',index=False)\n",
        "dataset_abanca.to_csv('HelMyCash_abanca.csv',index=False)\n",
        "dataset_ing_group.to_csv('HelMyCash_ing_group.csv',index=False)\n",
        "dataset_openbank.to_csv('HelMyCash_dataset_openbank.csv',index=False)\n",
        "dataset_santander.to_csv('HelMyCash_data_santander.csv',index=False)"
      ],
      "execution_count": 81,
      "outputs": []
    },
    {
      "cell_type": "code",
      "metadata": {
        "id": "RJSzQhPPLZ5B"
      },
      "source": [
        ""
      ],
      "execution_count": null,
      "outputs": []
    }
  ]
}