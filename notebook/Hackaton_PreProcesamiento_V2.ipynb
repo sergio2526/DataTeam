{
  "nbformat": 4,
  "nbformat_minor": 0,
  "metadata": {
    "colab": {
      "name": "Hackaton_PreProcesamiento_V2_0.ipynb",
      "provenance": [],
      "collapsed_sections": []
    },
    "kernelspec": {
      "display_name": "Python 3",
      "language": "python",
      "name": "python3"
    },
    "language_info": {
      "codemirror_mode": {
        "name": "ipython",
        "version": 3
      },
      "file_extension": ".py",
      "mimetype": "text/x-python",
      "name": "python",
      "nbconvert_exporter": "python",
      "pygments_lexer": "ipython3",
      "version": "3.8.3"
    }
  },
  "cells": [
    {
      "cell_type": "code",
      "metadata": {
        "id": "zy4pQ6QQ4Hjh",
        "outputId": "74b30cd8-60e3-4d80-f58e-8915d81f4831",
        "colab": {
          "base_uri": "https://localhost:8080/"
        }
      },
      "source": [
        "!pip install preprocessor\n",
        "!pip install demoji\n"
      ],
      "execution_count": 1,
      "outputs": [
        {
          "output_type": "stream",
          "text": [
            "Requirement already satisfied: preprocessor in /usr/local/lib/python3.6/dist-packages (1.1.3)\n",
            "Requirement already satisfied: demoji in /usr/local/lib/python3.6/dist-packages (0.3.0)\n",
            "Requirement already satisfied: requests<3.0.0 in /usr/local/lib/python3.6/dist-packages (from demoji) (2.23.0)\n",
            "Requirement already satisfied: colorama in /usr/local/lib/python3.6/dist-packages (from demoji) (0.4.3)\n",
            "Requirement already satisfied: chardet<4,>=3.0.2 in /usr/local/lib/python3.6/dist-packages (from requests<3.0.0->demoji) (3.0.4)\n",
            "Requirement already satisfied: certifi>=2017.4.17 in /usr/local/lib/python3.6/dist-packages (from requests<3.0.0->demoji) (2020.6.20)\n",
            "Requirement already satisfied: urllib3!=1.25.0,!=1.25.1,<1.26,>=1.21.1 in /usr/local/lib/python3.6/dist-packages (from requests<3.0.0->demoji) (1.24.3)\n",
            "Requirement already satisfied: idna<3,>=2.5 in /usr/local/lib/python3.6/dist-packages (from requests<3.0.0->demoji) (2.10)\n"
          ],
          "name": "stdout"
        }
      ]
    },
    {
      "cell_type": "code",
      "metadata": {
        "id": "veseI-Dh5YeG",
        "outputId": "47e4fcd7-b74f-4f7d-fdad-6851278a63f0",
        "colab": {
          "base_uri": "https://localhost:8080/"
        }
      },
      "source": [
        "!pip install demoji"
      ],
      "execution_count": 2,
      "outputs": [
        {
          "output_type": "stream",
          "text": [
            "Requirement already satisfied: demoji in /usr/local/lib/python3.6/dist-packages (0.3.0)\n",
            "Requirement already satisfied: colorama in /usr/local/lib/python3.6/dist-packages (from demoji) (0.4.3)\n",
            "Requirement already satisfied: requests<3.0.0 in /usr/local/lib/python3.6/dist-packages (from demoji) (2.23.0)\n",
            "Requirement already satisfied: idna<3,>=2.5 in /usr/local/lib/python3.6/dist-packages (from requests<3.0.0->demoji) (2.10)\n",
            "Requirement already satisfied: urllib3!=1.25.0,!=1.25.1,<1.26,>=1.21.1 in /usr/local/lib/python3.6/dist-packages (from requests<3.0.0->demoji) (1.24.3)\n",
            "Requirement already satisfied: chardet<4,>=3.0.2 in /usr/local/lib/python3.6/dist-packages (from requests<3.0.0->demoji) (3.0.4)\n",
            "Requirement already satisfied: certifi>=2017.4.17 in /usr/local/lib/python3.6/dist-packages (from requests<3.0.0->demoji) (2020.6.20)\n"
          ],
          "name": "stdout"
        }
      ]
    },
    {
      "cell_type": "code",
      "metadata": {
        "id": "aWKbKYN53oVa"
      },
      "source": [
        "#Importing Libraries\n",
        "import preprocessor as p\n",
        "import pandas as pd\n",
        "import re\n",
        "import demoji\n",
        "import unicodedata\n",
        "import string\n",
        "import numpy as np\n",
        "import pickle"
      ],
      "execution_count": 3,
      "outputs": []
    },
    {
      "cell_type": "markdown",
      "metadata": {
        "id": "tW2_n_5z3oVs"
      },
      "source": [
        "# Cargar la data"
      ]
    },
    {
      "cell_type": "code",
      "metadata": {
        "id": "Bvkc-DHD36zI"
      },
      "source": [
        "HelpMyCash_santander = pd.read_csv('HelMyCash_santander.csv')\n"
      ],
      "execution_count": 4,
      "outputs": []
    },
    {
      "cell_type": "code",
      "metadata": {
        "id": "nycog7T9YCC4",
        "outputId": "efdc5ce6-c242-4219-d20d-16a0a1b38358",
        "colab": {
          "base_uri": "https://localhost:8080/",
          "height": 204
        }
      },
      "source": [
        "HelpMyCash_santander.tail(5)"
      ],
      "execution_count": 5,
      "outputs": [
        {
          "output_type": "execute_result",
          "data": {
            "text/html": [
              "<div>\n",
              "<style scoped>\n",
              "    .dataframe tbody tr th:only-of-type {\n",
              "        vertical-align: middle;\n",
              "    }\n",
              "\n",
              "    .dataframe tbody tr th {\n",
              "        vertical-align: top;\n",
              "    }\n",
              "\n",
              "    .dataframe thead th {\n",
              "        text-align: right;\n",
              "    }\n",
              "</style>\n",
              "<table border=\"1\" class=\"dataframe\">\n",
              "  <thead>\n",
              "    <tr style=\"text-align: right;\">\n",
              "      <th></th>\n",
              "      <th>score</th>\n",
              "      <th>comentario</th>\n",
              "      <th>opinion</th>\n",
              "    </tr>\n",
              "  </thead>\n",
              "  <tbody>\n",
              "    <tr>\n",
              "      <th>189</th>\n",
              "      <td>1.0</td>\n",
              "      <td>hay que tener mucho cuidado con el santander ,...</td>\n",
              "      <td>Opinión sobre Tarjeta de débito Smart Premium ...</td>\n",
              "    </tr>\n",
              "    <tr>\n",
              "      <th>190</th>\n",
              "      <td>2.0</td>\n",
              "      <td>Comisiones abusivas. Empleados que aplaudiré c...</td>\n",
              "      <td>Opinión sobre Hipoteca Santander</td>\n",
              "    </tr>\n",
              "    <tr>\n",
              "      <th>191</th>\n",
              "      <td>1.0</td>\n",
              "      <td>Las personas más desagradables que puede tener...</td>\n",
              "      <td>Opinión sobre Cuenta 1|2|3</td>\n",
              "    </tr>\n",
              "    <tr>\n",
              "      <th>192</th>\n",
              "      <td>1.0</td>\n",
              "      <td>De verdad,es el peor banco que más**** del paí...</td>\n",
              "      <td>Opinión sobre Santander</td>\n",
              "    </tr>\n",
              "    <tr>\n",
              "      <th>193</th>\n",
              "      <td>1.0</td>\n",
              "      <td>Np existe.</td>\n",
              "      <td>Opinión sobre Santander</td>\n",
              "    </tr>\n",
              "  </tbody>\n",
              "</table>\n",
              "</div>"
            ],
            "text/plain": [
              "     score  ...                                            opinion\n",
              "189    1.0  ...  Opinión sobre Tarjeta de débito Smart Premium ...\n",
              "190    2.0  ...                   Opinión sobre Hipoteca Santander\n",
              "191    1.0  ...                         Opinión sobre Cuenta 1|2|3\n",
              "192    1.0  ...                            Opinión sobre Santander\n",
              "193    1.0  ...                            Opinión sobre Santander\n",
              "\n",
              "[5 rows x 3 columns]"
            ]
          },
          "metadata": {
            "tags": []
          },
          "execution_count": 5
        }
      ]
    },
    {
      "cell_type": "code",
      "metadata": {
        "id": "tCdmcSkveZuB"
      },
      "source": [
        "show = HelpMyCash_santander.loc[lambda HelpMyCash_santander: HelpMyCash_santander['score'] == 4]\n",
        "HMC_4 = show[\"comentario\"]\n",
        "\n",
        "show = HelpMyCash_santander.loc[lambda HelpMyCash_santander: HelpMyCash_santander['score'] == 5] \n",
        "HMC_5 = show[\"comentario\"]\n",
        "\n",
        "HCM_P = pd.concat([HMC_4, HMC_5]) \n",
        "\n"
      ],
      "execution_count": 6,
      "outputs": []
    },
    {
      "cell_type": "code",
      "metadata": {
        "id": "z-dUqg-qjb2u"
      },
      "source": [
        "data = pd.DataFrame(HCM_P)"
      ],
      "execution_count": 7,
      "outputs": []
    },
    {
      "cell_type": "code",
      "metadata": {
        "id": "BPoltkzbg4s3",
        "outputId": "0a280d87-95fb-4a4d-8f79-a592d1c8cff3",
        "colab": {
          "base_uri": "https://localhost:8080/",
          "height": 359
        }
      },
      "source": [
        "data.tail(10)"
      ],
      "execution_count": 8,
      "outputs": [
        {
          "output_type": "execute_result",
          "data": {
            "text/html": [
              "<div>\n",
              "<style scoped>\n",
              "    .dataframe tbody tr th:only-of-type {\n",
              "        vertical-align: middle;\n",
              "    }\n",
              "\n",
              "    .dataframe tbody tr th {\n",
              "        vertical-align: top;\n",
              "    }\n",
              "\n",
              "    .dataframe thead th {\n",
              "        text-align: right;\n",
              "    }\n",
              "</style>\n",
              "<table border=\"1\" class=\"dataframe\">\n",
              "  <thead>\n",
              "    <tr style=\"text-align: right;\">\n",
              "      <th></th>\n",
              "      <th>comentario</th>\n",
              "    </tr>\n",
              "  </thead>\n",
              "  <tbody>\n",
              "    <tr>\n",
              "      <th>170</th>\n",
              "      <td>me gusta el credito y me lo han dado pero me m...</td>\n",
              "    </tr>\n",
              "    <tr>\n",
              "      <th>17</th>\n",
              "      <td>Ok</td>\n",
              "    </tr>\n",
              "    <tr>\n",
              "      <th>27</th>\n",
              "      <td>No es practico. me lo recomendaro, pero desde ...</td>\n",
              "    </tr>\n",
              "    <tr>\n",
              "      <th>70</th>\n",
              "      <td>Pésimos, engañosos, no informan, ****, novació...</td>\n",
              "    </tr>\n",
              "    <tr>\n",
              "      <th>89</th>\n",
              "      <td>Buenas tardes. Pésima atención, tenemos una cu...</td>\n",
              "    </tr>\n",
              "    <tr>\n",
              "      <th>111</th>\n",
              "      <td>Cancelar la cuenta te cobran, ingresar dinero ...</td>\n",
              "    </tr>\n",
              "    <tr>\n",
              "      <th>143</th>\n",
              "      <td>Sin duda el peor banco, casi 5 meses para el r...</td>\n",
              "    </tr>\n",
              "    <tr>\n",
              "      <th>148</th>\n",
              "      <td>Una pésima atención, ineficaces y nada resolut...</td>\n",
              "    </tr>\n",
              "    <tr>\n",
              "      <th>159</th>\n",
              "      <td>Con el estado de alarma cerraron el 14 de marz...</td>\n",
              "    </tr>\n",
              "    <tr>\n",
              "      <th>173</th>\n",
              "      <td>contento</td>\n",
              "    </tr>\n",
              "  </tbody>\n",
              "</table>\n",
              "</div>"
            ],
            "text/plain": [
              "                                            comentario\n",
              "170  me gusta el credito y me lo han dado pero me m...\n",
              "17                                                  Ok\n",
              "27   No es practico. me lo recomendaro, pero desde ...\n",
              "70   Pésimos, engañosos, no informan, ****, novació...\n",
              "89   Buenas tardes. Pésima atención, tenemos una cu...\n",
              "111  Cancelar la cuenta te cobran, ingresar dinero ...\n",
              "143  Sin duda el peor banco, casi 5 meses para el r...\n",
              "148  Una pésima atención, ineficaces y nada resolut...\n",
              "159  Con el estado de alarma cerraron el 14 de marz...\n",
              "173                                           contento"
            ]
          },
          "metadata": {
            "tags": []
          },
          "execution_count": 8
        }
      ]
    },
    {
      "cell_type": "markdown",
      "metadata": {
        "id": "0qW_4N2S3oWZ"
      },
      "source": [
        "# Quitando urls"
      ]
    },
    {
      "cell_type": "code",
      "metadata": {
        "id": "0TG42Lz-3oWa"
      },
      "source": [
        "def remove_urls(row): \n",
        "    text=row['comentario']\n",
        "    url_pattern = re.compile(r'https?://\\S+|www\\.\\S+')\n",
        "    a=url_pattern.sub(r'', text)\n",
        "    return a"
      ],
      "execution_count": 9,
      "outputs": []
    },
    {
      "cell_type": "markdown",
      "metadata": {
        "id": "IskSAvif3oWz"
      },
      "source": [
        "# Quitando users"
      ]
    },
    {
      "cell_type": "code",
      "metadata": {
        "id": "iJn36e1Y3oW7"
      },
      "source": [
        "def remove_user(row):\n",
        "    text=row['comentario']\n",
        "    r = re.findall(\"@[\\w]*\", text)\n",
        "    for i in r:\n",
        "        text = re.sub(i, '', text)\n",
        "    return text\n",
        "  "
      ],
      "execution_count": 10,
      "outputs": []
    },
    {
      "cell_type": "code",
      "metadata": {
        "id": "F3Ni7Nih3oXC"
      },
      "source": [
        "data['comentario']= data['comentario'].astype(str)\n",
        "data['comentario'] = data.apply(remove_user, axis=1)"
      ],
      "execution_count": 11,
      "outputs": []
    },
    {
      "cell_type": "code",
      "metadata": {
        "id": "lll1JD7Y3oXN"
      },
      "source": [
        "def remove_hastag(row):\n",
        "    text=row['comentario']\n",
        "    r = re.findall(\"#[\\w]*\", text)\n",
        "    for i in r:\n",
        "        text = re.sub(i, '', text)\n",
        "    return text\n",
        "    \n",
        "\n"
      ],
      "execution_count": 12,
      "outputs": []
    },
    {
      "cell_type": "code",
      "metadata": {
        "id": "50SMZ8yA3oXS"
      },
      "source": [
        "data['comentario'] = data.apply(remove_hastag, axis=1)"
      ],
      "execution_count": 13,
      "outputs": []
    },
    {
      "cell_type": "code",
      "metadata": {
        "id": "DYW6WZfY3oXw"
      },
      "source": [
        "def remove_rt(row):\n",
        "    text=row['comentario']\n",
        "    r = re.findall('RT :', text)\n",
        "    for i in r:\n",
        "        text = re.sub(i, '', text)\n",
        "    return text.lower()\n",
        "    "
      ],
      "execution_count": 14,
      "outputs": []
    },
    {
      "cell_type": "code",
      "metadata": {
        "id": "_oiTp3by3oX1"
      },
      "source": [
        "data['comentario'] = data.apply(remove_rt, axis=1)"
      ],
      "execution_count": 15,
      "outputs": []
    },
    {
      "cell_type": "code",
      "metadata": {
        "id": "U4snYSMz3oYA"
      },
      "source": [
        "data['comentario'] = data.apply(remove_urls, axis=1)"
      ],
      "execution_count": 16,
      "outputs": []
    },
    {
      "cell_type": "code",
      "metadata": {
        "id": "pVesYDt03oYI",
        "outputId": "ec3a928f-423f-4ef1-9d5a-7dc8d0e9b60e",
        "colab": {
          "base_uri": "https://localhost:8080/"
        }
      },
      "source": [
        "!pip install unidecode"
      ],
      "execution_count": 17,
      "outputs": [
        {
          "output_type": "stream",
          "text": [
            "Requirement already satisfied: unidecode in /usr/local/lib/python3.6/dist-packages (1.1.1)\n"
          ],
          "name": "stdout"
        }
      ]
    },
    {
      "cell_type": "code",
      "metadata": {
        "id": "n-X8XjbF3oYQ"
      },
      "source": [
        "#Remover\n",
        "import string\n",
        "import unidecode\n",
        "a=string.punctuation"
      ],
      "execution_count": 18,
      "outputs": []
    },
    {
      "cell_type": "code",
      "metadata": {
        "id": "cabJw-343oYT"
      },
      "source": [
        "def signos(row):\n",
        "\n",
        "    sentences=row['comentario']\n",
        "    text_string=re.findall('[\\w]+',sentences)\n",
        "    cad=' '.join(text_string)\n",
        "    cad=unidecode.unidecode(cad)\n",
        "    cad2=cad.translate(str.maketrans(\"\",'',a))\n",
        "    cad3=cad2.split()\n",
        "    cad4=' '.join(cad3)\n",
        "    \n",
        "    return cad4"
      ],
      "execution_count": 19,
      "outputs": []
    },
    {
      "cell_type": "code",
      "metadata": {
        "id": "xNvZ7omM3oYX"
      },
      "source": [
        "data['comentario'] = data.apply(signos, axis=1)"
      ],
      "execution_count": 20,
      "outputs": []
    },
    {
      "cell_type": "code",
      "metadata": {
        "id": "Jc1UVk_C3oYk"
      },
      "source": [
        "def remove_nro(row):\n",
        "    text=row['comentario']\n",
        "    r = re.findall(r'\\d', text)\n",
        "    for i in r:\n",
        "        text = re.sub(i, '', text)\n",
        "    return text.lower()\n",
        "\n",
        "data['comentario'] = data.apply(remove_nro, axis=1)\n"
      ],
      "execution_count": 21,
      "outputs": []
    },
    {
      "cell_type": "code",
      "metadata": {
        "id": "glWi2s6GC8go"
      },
      "source": [
        "def spaces_begin(row):\n",
        "    text=row['comentario']\n",
        "    r = re.findall(r'^\\s+', text)\n",
        "    for i in r:\n",
        "        text = re.sub(i, '', text)\n",
        "    return text.lower()\n",
        "\n",
        "data['comentario'] = data.apply(spaces_begin, axis=1)\n",
        "\n",
        "def spaces_end(row):\n",
        "    text=row['comentario']\n",
        "    r = re.findall(r'\\s+$', text)\n",
        "    for i in r:\n",
        "        text = re.sub(i, '', text)\n",
        "    return text.lower()\n",
        "\n",
        "data['comentario'] = data.apply(spaces_end, axis=1)\n",
        "\n",
        "def spaces_middle(row):\n",
        "    text=row['comentario']\n",
        "    r = re.findall(r'\\s+', text)\n",
        "    for i in r:\n",
        "        text = re.sub(i, ' ', text)\n",
        "    return text.lower()\n",
        "\n",
        "data['comentario'] = data.apply(spaces_middle, axis=1)"
      ],
      "execution_count": 22,
      "outputs": []
    },
    {
      "cell_type": "code",
      "metadata": {
        "id": "QuWRywpMDzeq"
      },
      "source": [
        "data_lista = data['comentario'].values.tolist()"
      ],
      "execution_count": 23,
      "outputs": []
    },
    {
      "cell_type": "code",
      "metadata": {
        "id": "rMcsCEsT68dn",
        "outputId": "11b17e20-87d5-4f30-bf77-f241fc408c15",
        "colab": {
          "base_uri": "https://localhost:8080/"
        }
      },
      "source": [
        "data_lista = set(data_lista)\n",
        "len(data_lista)"
      ],
      "execution_count": 24,
      "outputs": [
        {
          "output_type": "execute_result",
          "data": {
            "text/plain": [
              "22"
            ]
          },
          "metadata": {
            "tags": []
          },
          "execution_count": 24
        }
      ]
    },
    {
      "cell_type": "code",
      "metadata": {
        "id": "ooitdubm6wpK"
      },
      "source": [
        "X1=[]\n",
        "\n",
        "for i in data_lista:\n",
        "  if (len(i.split(' ')) >= 5):\n",
        "    X1.append(i)"
      ],
      "execution_count": 25,
      "outputs": []
    },
    {
      "cell_type": "code",
      "metadata": {
        "id": "WAX178Lz9Ymi",
        "outputId": "09ebaec7-78e3-4686-a58a-038e90fdc856",
        "colab": {
          "base_uri": "https://localhost:8080/"
        }
      },
      "source": [
        "len(X1)"
      ],
      "execution_count": 26,
      "outputs": [
        {
          "output_type": "execute_result",
          "data": {
            "text/plain": [
              "18"
            ]
          },
          "metadata": {
            "tags": []
          },
          "execution_count": 26
        }
      ]
    },
    {
      "cell_type": "code",
      "metadata": {
        "id": "Xr1DPqt1kMX6",
        "outputId": "900634ed-fe46-4902-a8d1-cc87c0339787",
        "colab": {
          "base_uri": "https://localhost:8080/"
        }
      },
      "source": [
        "X1"
      ],
      "execution_count": 27,
      "outputs": [
        {
          "output_type": "execute_result",
          "data": {
            "text/plain": [
              "['unos para eurs que listos se andan se creen que regalan algo los listos',\n",
              " 'no es practico me lo recomendaro pero desde que me hice clienta no me han echo ningun tramite facil',\n",
              " 'la satifaccion es muy positiva y la atencion solo resaltar que en santander el uso de mascarilla no es obligatoria lo cual me llama muchisimo la atencion cuando casi desde el principio deberia ser obligatoria un cordial saludo',\n",
              " 'de banco mas de meses y medio y no me enviaban la nueva tarjeta siempre verifica an mi direccion actualizaron varias veces mi documento de identidad y luego va y resulta que no me pueden enviar la tarjeta porque la direccion era incorrecta y encima mi documento de identidad estaba caducado hace mas de un ano entonces que hacen cuando uno va a sus oficinas son unos ineptos todos ya cancele mi cuenta porque no queria saber mas de ellos',\n",
              " 'sin duda el peor banco casi meses para el reparto de una herencia mientras tanto cobrando de comision casualmente el reparto se hace dia despues de cobrar la ultima comision no contentos con eso cobran por las transferencias nos hacen devolver los intereses enteros de un trimestre de un seguro de vida cuando deberian ser dias pues pagaron esos dias despues del fallecimiento aunque el seguro de vida nos lo pagaron meses despues claro sin pagar ningun tipo de interes',\n",
              " 'me gusta el credito y me lo han dado pero me molesta tener que pagar una comision cuando hay otras ofertas sin comisiones',\n",
              " 'la zero entrara dentro de lo nuevo de santander one van aparte o es que todo esta dentro del plan',\n",
              " 'la tarjeta e cash del santander sigue bloqueandose con operaciones que hace unos dias funcionaban les llame y la desbloquearon dijo que era porque aumentaron el nivel de seguridad pero yo creo que lo que aumentaron fue el nivel de inutilidad',\n",
              " 'buenas tardes pesima atencion tenemos una cuenta un prestamos que nos queda nada para pagarlo y varias cosas que pagamos por ahi desde hace unos meses como te carguen el recibo por la tarde te falte algo y no hagas el ingreso en el momento al dia siguiente te llaman te tratan como morosa ahora ya son mas exclusivos te llama un contestador y te dice que regularices la cuenta cuando ya esta regularizada coordinacion cero deseando poder cancelar la cuenta me siento acosada inhumanos',\n",
              " 'una pesima atencion ineficaces y nada resolutivos la sucursal de son peores que unos malos funcionarios no me extrana que la banca acabe siendo on line y cierren oficinas con esos empleados los clientes solo iran una vez y daran las peores referencias',\n",
              " 'cancelar la cuenta te cobran ingresar dinero monedas un importe de en la cuenta comision el trato recibido pesimo ect',\n",
              " 'con el estado de alarma cerraron el de marzo la oficina de camino el pilon en miralbueno zaragoza y hoy a de junio aun no han abierto una verguenzatrabajo en un comercio q hace el ingreso en esa oficina y nos han dejado vendidos sin cambios hemos tenido q coger cambios en los otros dos bancos q hay en el barrio q si q han dado srrvicio a sus clientes una verguenza no nos admitia muchas veces los billetes el cajero y teniamos q ir a otro banco a q nos cambiaran los billetes',\n",
              " 'si no te vinculas te crujen yo tengo la hipoteca y me salvo lo de iberia no suena mal del todo',\n",
              " 'pesimos enganosos no informan novacion firmada de carencia hipotecaria y siguen pasando cuotas el pez grande se come al pequeno pero con este no podra',\n",
              " 'y hoy mismo he intentado hacer una transferencia y como siempre no me ha dejado la punetera firma electronica y he llamado al telefono que indica la pagina y cuando hablo con una teleoperadora me dice que me va a mandar una llamada digital y que elija envio por sms y asi lo hago pero oigo lo enviamos a su domicilio como uf',\n",
              " 'cobran isr de cuentas de inversion mal para benefociarse',\n",
              " 'las subastas del monte de piedad de madrid gestionado por el santander dan mucho que pensar en cuanto a fiabilidad alguien ha tenido alguna experiencia con ellos',\n",
              " 'he sentido una verdadera liberacion al cancelar la cuenta del santander todavia no me lo creo me sentia secuestrado por estos con el popular antes de ser comprado por el santander por todo iba de maravilla te atendian con cordialidad eran eficientes no te cobraban por respirar y salias de la oficina silbando pero llego el santander y todo cambio al ano de comision de mantenimiento a pesar de tener la nomina prepotencia y malas caras si les cuestionas algo una ruina']"
            ]
          },
          "metadata": {
            "tags": []
          },
          "execution_count": 27
        }
      ]
    },
    {
      "cell_type": "code",
      "metadata": {
        "id": "qbeZfXhbkl8B"
      },
      "source": [
        "import pickle\n",
        "\n",
        "with open('HelpMyCash_santander.pickle', 'wb') as handle: pickle.dump(X1, handle, protocol=pickle.HIGHEST_PROTOCOL)"
      ],
      "execution_count": 28,
      "outputs": []
    },
    {
      "cell_type": "code",
      "metadata": {
        "id": "aaqNVTKqlEWZ"
      },
      "source": [
        ""
      ],
      "execution_count": 28,
      "outputs": []
    }
  ]
}